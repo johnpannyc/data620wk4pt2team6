{
 "cells": [
  {
   "cell_type": "markdown",
   "metadata": {},
   "source": [
    "# W4P2\n",
    "\n",
    "#### Team 6: Alice Friedman, Jun Pan, Stephen (Scott) Jones, and Jeff Littlejohn \n",
    "\n",
    "### 1. Choose a corpus of interest.\n",
    "\n",
    "We chose the Reuters corpus available as part of the `nltk` package."
   ]
  },
  {
   "cell_type": "code",
   "execution_count": 1,
   "metadata": {},
   "outputs": [],
   "source": [
    "import nltk\n",
    "import nltk.corpus\n",
    "import pandas as pd\n",
    "import numpy as np"
   ]
  },
  {
   "cell_type": "code",
   "execution_count": 2,
   "metadata": {},
   "outputs": [],
   "source": [
    "from nltk.corpus import reuters"
   ]
  },
  {
   "cell_type": "code",
   "execution_count": 3,
   "metadata": {},
   "outputs": [
    {
     "data": {
      "text/plain": [
       "['ASIAN', 'EXPORTERS', 'FEAR', 'DAMAGE', 'FROM', 'U', ...]"
      ]
     },
     "execution_count": 3,
     "metadata": {},
     "output_type": "execute_result"
    }
   ],
   "source": [
    "reuters.words()"
   ]
  },
  {
   "cell_type": "code",
   "execution_count": 4,
   "metadata": {},
   "outputs": [
    {
     "data": {
      "text/plain": [
       "1327141"
      ]
     },
     "execution_count": 4,
     "metadata": {},
     "output_type": "execute_result"
    }
   ],
   "source": [
    "textlist = reuters.words()\n",
    "\n",
    "#convert list to lowercase\n",
    "textlist = [w.lower() for w in textlist if w.isalpha()]\n",
    "\n",
    "#check length of list\n",
    "len(textlist)"
   ]
  },
  {
   "cell_type": "code",
   "execution_count": 5,
   "metadata": {},
   "outputs": [
    {
     "data": {
      "text/plain": [
       "['a', 'aa', 'aaa', 'aabex', 'aac', 'aachener', 'aagiy', 'aaica', 'aaix', 'aam']"
      ]
     },
     "execution_count": 5,
     "metadata": {},
     "output_type": "execute_result"
    }
   ],
   "source": [
    "sorted_text_set = sorted(set(textlist))\n",
    "\n",
    "sorted_text_set[:10]"
   ]
  },
  {
   "cell_type": "code",
   "execution_count": 6,
   "metadata": {},
   "outputs": [
    {
     "data": {
      "text/plain": [
       "29173"
      ]
     },
     "execution_count": 6,
     "metadata": {},
     "output_type": "execute_result"
    }
   ],
   "source": [
    "#check number of unique words before cleaning\n",
    "len(sorted_text_set)"
   ]
  },
  {
   "cell_type": "code",
   "execution_count": 7,
   "metadata": {},
   "outputs": [
    {
     "data": {
      "text/plain": [
       "['a', 'aa', 'aaa', 'aabex', 'aac', 'aachener', 'aagiy', 'aaica', 'aaix', 'aam']"
      ]
     },
     "execution_count": 7,
     "metadata": {},
     "output_type": "execute_result"
    }
   ],
   "source": [
    "import string\n",
    "textlist = [''.join(c for c in s if c not in string.punctuation) for s in textlist]\n",
    "textlist = [s for s in textlist if s]\n",
    "\n",
    "sorted_text_set = sorted(set(textlist))\n",
    "\n",
    "sorted_text_set[:10]"
   ]
  },
  {
   "cell_type": "code",
   "execution_count": 8,
   "metadata": {},
   "outputs": [
    {
     "data": {
      "text/plain": [
       "['a', 'aa', 'aaa', 'aabex', 'aac', 'aachener', 'aagiy', 'aaica', 'aaix', 'aam']"
      ]
     },
     "execution_count": 8,
     "metadata": {},
     "output_type": "execute_result"
    }
   ],
   "source": [
    "#no_integers = [x for x in text_words if not (x.isdigit() or x[0] == '-' and x[1:].isdigit())]\n",
    "    \n",
    "textlist = [x.lower() for x in textlist if not any(c.isdigit() for c in x)]\n",
    "\n",
    "sorted_text_set = sorted(set(textlist))\n",
    "\n",
    "sorted_text_set[:10]"
   ]
  },
  {
   "cell_type": "code",
   "execution_count": 9,
   "metadata": {},
   "outputs": [
    {
     "data": {
      "text/plain": [
       "['zubedei',\n",
       " 'zubeidi',\n",
       " 'zuccherifici',\n",
       " 'zuckerman',\n",
       " 'zuheir',\n",
       " 'zulia',\n",
       " 'zurich',\n",
       " 'zuyuan',\n",
       " 'zverev',\n",
       " 'zwermann',\n",
       " 'zy',\n",
       " 'zzzz',\n",
       " 'üside']"
      ]
     },
     "execution_count": 9,
     "metadata": {},
     "output_type": "execute_result"
    }
   ],
   "source": [
    "sorted_text_set[29160:]"
   ]
  },
  {
   "cell_type": "code",
   "execution_count": 10,
   "metadata": {},
   "outputs": [
    {
     "data": {
      "text/plain": [
       "['aaa',\n",
       " 'aabex',\n",
       " 'aac',\n",
       " 'aachener',\n",
       " 'aagiy',\n",
       " 'aaica',\n",
       " 'aaix',\n",
       " 'aam',\n",
       " 'aame',\n",
       " 'aancor']"
      ]
     },
     "execution_count": 10,
     "metadata": {},
     "output_type": "execute_result"
    }
   ],
   "source": [
    "#remove all single-letter  and two-letter \"words\"\n",
    "textlist = [x for x in textlist if (len(x) > 2)]\n",
    "\n",
    "sorted_text_set = sorted(set(textlist))\n",
    "\n",
    "sorted_text_set[:10]"
   ]
  },
  {
   "cell_type": "code",
   "execution_count": 11,
   "metadata": {},
   "outputs": [
    {
     "data": {
      "text/plain": [
       "['asian',\n",
       " 'exporters',\n",
       " 'fear',\n",
       " 'damage',\n",
       " 'from',\n",
       " 'japan',\n",
       " 'rift',\n",
       " 'mounting',\n",
       " 'trade',\n",
       " 'friction']"
      ]
     },
     "execution_count": 11,
     "metadata": {},
     "output_type": "execute_result"
    }
   ],
   "source": [
    "#remove all words without at least one vowel\n",
    "vowel = ['a','e','i','o','u'] \n",
    "\n",
    "vowset = set(vowel)\n",
    "textlist = [word for word in textlist if vowset.intersection(word)]\n",
    "\n",
    "textlist[:10]"
   ]
  },
  {
   "cell_type": "code",
   "execution_count": 12,
   "metadata": {},
   "outputs": [
    {
     "name": "stdout",
     "output_type": "stream",
     "text": [
      "[nltk_data] Downloading package stopwords to\n",
      "[nltk_data]     C:\\Users\\tbao\\AppData\\Roaming\\nltk_data...\n",
      "[nltk_data]   Package stopwords is already up-to-date!\n"
     ]
    },
    {
     "data": {
      "text/plain": [
       "['accurate',\n",
       " 'accurately',\n",
       " 'accuray',\n",
       " 'accured',\n",
       " 'accusation',\n",
       " 'accusations',\n",
       " 'accuse',\n",
       " 'accused',\n",
       " 'accusing',\n",
       " 'accustomed']"
      ]
     },
     "execution_count": 12,
     "metadata": {},
     "output_type": "execute_result"
    }
   ],
   "source": [
    "#import nltk\n",
    "#from nltk.corpus import stopword\n",
    "#set(stopwords.words('english'))\n",
    "\n",
    "import nltk\n",
    "from nltk.corpus import stopwords\n",
    "nltk.download('stopwords')\n",
    "\n",
    "\n",
    "\n",
    "\n",
    "#remove stopwords, save to another textlist for comparison later in the Zipf distribution plot\n",
    "stopwords = stopwords.words('english')\n",
    "textlist2 = [w for w in textlist if w not in stopwords]\n",
    "\n",
    "sorted_text_set2 = sorted(set(textlist2))\n",
    "\n",
    "sorted_text_set2[200:210]"
   ]
  },
  {
   "cell_type": "markdown",
   "metadata": {},
   "source": [
    "### 2. How many total unique words are in the corpus?  (Please feel free to define unique words in any interesting, defensible way)."
   ]
  },
  {
   "cell_type": "markdown",
   "metadata": {},
   "source": [
    "After removing strings containing integers, limiting the lenth of strings to greater than 2, and removing stopwords in the list, we calculate the number of distinct \"words\"; the `set` commands omits duplicates from the number."
   ]
  },
  {
   "cell_type": "code",
   "execution_count": 13,
   "metadata": {},
   "outputs": [
    {
     "data": {
      "text/plain": [
       "28823"
      ]
     },
     "execution_count": 13,
     "metadata": {},
     "output_type": "execute_result"
    }
   ],
   "source": [
    "len(sorted_text_set)"
   ]
  },
  {
   "cell_type": "markdown",
   "metadata": {},
   "source": [
    "There are 39,685 distinct \"words\" left in the corpus.\n",
    "\n",
    "After removing strings containing integers and numbers in the list, we calculate the number of total words left in the list, including duplicates."
   ]
  },
  {
   "cell_type": "code",
   "execution_count": 14,
   "metadata": {},
   "outputs": [
    {
     "data": {
      "text/plain": [
       "996401"
      ]
     },
     "execution_count": 14,
     "metadata": {},
     "output_type": "execute_result"
    }
   ],
   "source": [
    "len(textlist)"
   ]
  },
  {
   "cell_type": "markdown",
   "metadata": {},
   "source": [
    "There are 1,327,141 \"words\" in the list."
   ]
  },
  {
   "cell_type": "code",
   "execution_count": 15,
   "metadata": {
    "scrolled": true
   },
   "outputs": [
    {
     "data": {
      "text/html": [
       "<div>\n",
       "<style scoped>\n",
       "    .dataframe tbody tr th:only-of-type {\n",
       "        vertical-align: middle;\n",
       "    }\n",
       "\n",
       "    .dataframe tbody tr th {\n",
       "        vertical-align: top;\n",
       "    }\n",
       "\n",
       "    .dataframe thead th {\n",
       "        text-align: right;\n",
       "    }\n",
       "</style>\n",
       "<table border=\"1\" class=\"dataframe\">\n",
       "  <thead>\n",
       "    <tr style=\"text-align: right;\">\n",
       "      <th></th>\n",
       "      <th>word</th>\n",
       "      <th>Frequency</th>\n",
       "    </tr>\n",
       "  </thead>\n",
       "  <tbody>\n",
       "    <tr>\n",
       "      <th>0</th>\n",
       "      <td>said</td>\n",
       "      <td>25383</td>\n",
       "    </tr>\n",
       "    <tr>\n",
       "      <th>1</th>\n",
       "      <td>year</td>\n",
       "      <td>7529</td>\n",
       "    </tr>\n",
       "    <tr>\n",
       "      <th>2</th>\n",
       "      <td>net</td>\n",
       "      <td>6989</td>\n",
       "    </tr>\n",
       "    <tr>\n",
       "      <th>3</th>\n",
       "      <td>billion</td>\n",
       "      <td>5829</td>\n",
       "    </tr>\n",
       "    <tr>\n",
       "      <th>4</th>\n",
       "      <td>loss</td>\n",
       "      <td>5124</td>\n",
       "    </tr>\n",
       "    <tr>\n",
       "      <th>5</th>\n",
       "      <td>would</td>\n",
       "      <td>4673</td>\n",
       "    </tr>\n",
       "    <tr>\n",
       "      <th>6</th>\n",
       "      <td>company</td>\n",
       "      <td>4670</td>\n",
       "    </tr>\n",
       "    <tr>\n",
       "      <th>7</th>\n",
       "      <td>inc</td>\n",
       "      <td>4121</td>\n",
       "    </tr>\n",
       "    <tr>\n",
       "      <th>8</th>\n",
       "      <td>bank</td>\n",
       "      <td>3654</td>\n",
       "    </tr>\n",
       "    <tr>\n",
       "      <th>9</th>\n",
       "      <td>corp</td>\n",
       "      <td>3399</td>\n",
       "    </tr>\n",
       "  </tbody>\n",
       "</table>\n",
       "</div>"
      ],
      "text/plain": [
       "      word  Frequency\n",
       "0     said      25383\n",
       "1     year       7529\n",
       "2      net       6989\n",
       "3  billion       5829\n",
       "4     loss       5124\n",
       "5    would       4673\n",
       "6  company       4670\n",
       "7      inc       4121\n",
       "8     bank       3654\n",
       "9     corp       3399"
      ]
     },
     "execution_count": 15,
     "metadata": {},
     "output_type": "execute_result"
    }
   ],
   "source": [
    "fdist = nltk.FreqDist(textlist2)    \n",
    "df_fdist = pd.DataFrame.from_dict(fdist, orient='index')\n",
    "df_fdist.columns = ['Frequency']\n",
    "df_fdist.index.name = 'word'\n",
    "df_fdist.sort_values(['Frequency'], ascending=[False], inplace = True)\n",
    "\n",
    "#add index number, make word a column\n",
    "df_fdist.reset_index(level=0, inplace=True)\n",
    "\n",
    "#print first ten of data frame\n",
    "df_fdist.head(10)"
   ]
  },
  {
   "cell_type": "markdown",
   "metadata": {},
   "source": [
    "### 3. Taking the most common words, how many unique words represent half of the total words in the corpus?"
   ]
  },
  {
   "cell_type": "code",
   "execution_count": 16,
   "metadata": {},
   "outputs": [
    {
     "data": {
      "text/plain": [
       "761405"
      ]
     },
     "execution_count": 16,
     "metadata": {},
     "output_type": "execute_result"
    }
   ],
   "source": [
    "half_numwords = len(textlist2)\n",
    "half_numwords"
   ]
  },
  {
   "cell_type": "code",
   "execution_count": 17,
   "metadata": {},
   "outputs": [
    {
     "data": {
      "text/plain": [
       "27109    761405\n",
       "Name: Sum, dtype: int64"
      ]
     },
     "execution_count": 17,
     "metadata": {},
     "output_type": "execute_result"
    }
   ],
   "source": [
    "df_fdist['Sum'] = df_fdist.Frequency.cumsum()\n",
    "\n",
    "unique_arehalf = df_fdist[df_fdist['Frequency']<=half_numwords]\n",
    "\n",
    "unique_arehalf.tail(1).Sum"
   ]
  },
  {
   "cell_type": "markdown",
   "metadata": {},
   "source": [
    "Since the index for the dataframe begins at 0, there are 27,110 unique words that represent approximately half of the 761,405 total words in the corpus."
   ]
  },
  {
   "cell_type": "markdown",
   "metadata": {},
   "source": [
    "### 4. Identify the 200 highest frequency words in this corpus.\n",
    "\n",
    "The code below creates a subset of the data with the 200 most frequently-occurring words; a word cloud is created."
   ]
  },
  {
   "cell_type": "code",
   "execution_count": 18,
   "metadata": {},
   "outputs": [
    {
     "data": {
      "text/plain": [
       "<matplotlib.figure.Figure at 0x202b8136cf8>"
      ]
     },
     "metadata": {},
     "output_type": "display_data"
    }
   ],
   "source": [
    "from wordcloud import WordCloud\n",
    "import matplotlib.pyplot as plt\n",
    "\n",
    "high200freq = df_fdist[df_fdist.index<=199]\n",
    "\n",
    "text = high200freq.word\n",
    "wordcloud = WordCloud(\n",
    "    width = 3000,\n",
    "    height = 2000,\n",
    "    background_color = 'white').generate(str(text))\n",
    "fig = plt.figure(\n",
    "    figsize = (20, 20),\n",
    "    facecolor = 'k',\n",
    "    edgecolor = 'k')\n",
    "plt.imshow(wordcloud, interpolation = 'bilinear')\n",
    "plt.axis('off')\n",
    "plt.tight_layout(pad=0)\n",
    "plt.show()\n"
   ]
  },
  {
   "cell_type": "code",
   "execution_count": 19,
   "metadata": {},
   "outputs": [
    {
     "data": {
      "text/html": [
       "<div>\n",
       "<style scoped>\n",
       "    .dataframe tbody tr th:only-of-type {\n",
       "        vertical-align: middle;\n",
       "    }\n",
       "\n",
       "    .dataframe tbody tr th {\n",
       "        vertical-align: top;\n",
       "    }\n",
       "\n",
       "    .dataframe thead th {\n",
       "        text-align: right;\n",
       "    }\n",
       "</style>\n",
       "<table border=\"1\" class=\"dataframe\">\n",
       "  <thead>\n",
       "    <tr style=\"text-align: right;\">\n",
       "      <th></th>\n",
       "      <th>word</th>\n",
       "      <th>Frequency</th>\n",
       "      <th>Sum</th>\n",
       "    </tr>\n",
       "  </thead>\n",
       "  <tbody>\n",
       "    <tr>\n",
       "      <th>0</th>\n",
       "      <td>said</td>\n",
       "      <td>25383</td>\n",
       "      <td>25383</td>\n",
       "    </tr>\n",
       "    <tr>\n",
       "      <th>1</th>\n",
       "      <td>year</td>\n",
       "      <td>7529</td>\n",
       "      <td>32912</td>\n",
       "    </tr>\n",
       "    <tr>\n",
       "      <th>2</th>\n",
       "      <td>net</td>\n",
       "      <td>6989</td>\n",
       "      <td>39901</td>\n",
       "    </tr>\n",
       "    <tr>\n",
       "      <th>3</th>\n",
       "      <td>billion</td>\n",
       "      <td>5829</td>\n",
       "      <td>45730</td>\n",
       "    </tr>\n",
       "    <tr>\n",
       "      <th>4</th>\n",
       "      <td>loss</td>\n",
       "      <td>5124</td>\n",
       "      <td>50854</td>\n",
       "    </tr>\n",
       "    <tr>\n",
       "      <th>5</th>\n",
       "      <td>would</td>\n",
       "      <td>4673</td>\n",
       "      <td>55527</td>\n",
       "    </tr>\n",
       "    <tr>\n",
       "      <th>6</th>\n",
       "      <td>company</td>\n",
       "      <td>4670</td>\n",
       "      <td>60197</td>\n",
       "    </tr>\n",
       "    <tr>\n",
       "      <th>7</th>\n",
       "      <td>inc</td>\n",
       "      <td>4121</td>\n",
       "      <td>64318</td>\n",
       "    </tr>\n",
       "    <tr>\n",
       "      <th>8</th>\n",
       "      <td>bank</td>\n",
       "      <td>3654</td>\n",
       "      <td>67972</td>\n",
       "    </tr>\n",
       "    <tr>\n",
       "      <th>9</th>\n",
       "      <td>corp</td>\n",
       "      <td>3399</td>\n",
       "      <td>71371</td>\n",
       "    </tr>\n",
       "  </tbody>\n",
       "</table>\n",
       "</div>"
      ],
      "text/plain": [
       "      word  Frequency    Sum\n",
       "0     said      25383  25383\n",
       "1     year       7529  32912\n",
       "2      net       6989  39901\n",
       "3  billion       5829  45730\n",
       "4     loss       5124  50854\n",
       "5    would       4673  55527\n",
       "6  company       4670  60197\n",
       "7      inc       4121  64318\n",
       "8     bank       3654  67972\n",
       "9     corp       3399  71371"
      ]
     },
     "execution_count": 19,
     "metadata": {},
     "output_type": "execute_result"
    }
   ],
   "source": [
    "high200freq.head(10)"
   ]
  },
  {
   "cell_type": "markdown",
   "metadata": {},
   "source": [
    "### 5. Create a graph that shows the relative frequency of these 200 words.\n",
    "\n",
    "A bar chart plots word frequency."
   ]
  },
  {
   "cell_type": "code",
   "execution_count": 20,
   "metadata": {},
   "outputs": [
    {
     "data": {
      "image/png": "[encoded data removed]",
      "text/plain": [
       "<matplotlib.figure.Figure at 0x202bafd4630>"
      ]
     },
     "metadata": {},
     "output_type": "display_data"
    }
   ],
   "source": [
    "high200freq = high200freq.set_index('word')\n",
    "\n",
    "import numpy as np\n",
    "import matplotlib.pyplot as plt\n",
    "\n",
    "plt.figure(figsize=(20,10))\n",
    "high200freq.Frequency.plot.bar()\n",
    "plt.xticks(rotation=90, size=6)\n",
    "plt.xlabel(\"Word\",size=12)\n",
    "plt.ylabel(\"Frequency\",size=12)\n",
    "plt.show()"
   ]
  },
  {
   "cell_type": "markdown",
   "metadata": {},
   "source": [
    "### 6. Does the observed relative frequency of these words follow Zipf’s law?  Explain.\n",
    "\n",
    "Compare the word frequency data to the Zipf distribution."
   ]
  },
  {
   "cell_type": "code",
   "execution_count": 22,
   "metadata": {},
   "outputs": [
    {
     "data": {
      "image/png": "[encoded data removed]",
      "text/plain": [
       "<matplotlib.figure.Figure at 0x202bb2853c8>"
      ]
     },
     "metadata": {},
     "output_type": "display_data"
    }
   ],
   "source": [
    "#reference: https://stackoverflow.com/questions/39114402/constructing-zipf-distribution-with-matplotlib-fitted-line\n",
    "import matplotlib.pyplot as plt\n",
    "%matplotlib inline\n",
    "from scipy import special\n",
    "\n",
    "a = 2. # parameter\n",
    "s = np.random.zipf(a, 1000)\n",
    "\n",
    "high200freq = df_fdist[df_fdist.index<=49]\n",
    "\n",
    "high200freq.index+=1\n",
    "\n",
    "#make the figure larger\n",
    "fig = plt.figure(figsize=(20,10))\n",
    "\n",
    "#Plot bar with values from dict and label with keys\n",
    "plt.bar(range(len(high200freq)), high200freq.Frequency, align='center')\n",
    "plt.xticks(range(len(high200freq)), high200freq.index)\n",
    "\n",
    "#Rotate labels by 90 degrees so you can see them\n",
    "locs, labels = plt.xticks()\n",
    "plt.setp(labels, rotation=90)\n",
    "\n",
    "#plot zipf distribution\n",
    "count, bins, ignored = plt.hist(s[s<50], 50, normed=True)\n",
    "x = np.arange(1., 50.)\n",
    "y = x**(-a) / special.zetac(a)\n",
    "plt.plot(x, y*max(high200freq.Frequency), linewidth=2, color='r')\n",
    "\n",
    "plt.title(\"Zipf Plot Comparison for Word Rank, Reuters Corpus\",size=18)\n",
    "plt.xlabel(\"Word Rank\",size=12)\n",
    "plt.ylabel(\"Frequency\",size=12)\n",
    "\n",
    "plt.show()"
   ]
  },
  {
   "cell_type": "markdown",
   "metadata": {},
   "source": [
    "We'll leave stopwords in and compare to Zipf distribution again."
   ]
  },
  {
   "cell_type": "code",
   "execution_count": 41,
   "metadata": {},
   "outputs": [
    {
     "data": {
      "text/html": [
       "<div>\n",
       "<style scoped>\n",
       "    .dataframe tbody tr th:only-of-type {\n",
       "        vertical-align: middle;\n",
       "    }\n",
       "\n",
       "    .dataframe tbody tr th {\n",
       "        vertical-align: top;\n",
       "    }\n",
       "\n",
       "    .dataframe thead th {\n",
       "        text-align: right;\n",
       "    }\n",
       "</style>\n",
       "<table border=\"1\" class=\"dataframe\">\n",
       "  <thead>\n",
       "    <tr style=\"text-align: right;\">\n",
       "      <th></th>\n",
       "      <th>Word</th>\n",
       "      <th>Frequency</th>\n",
       "    </tr>\n",
       "  </thead>\n",
       "  <tbody>\n",
       "    <tr>\n",
       "      <th>0</th>\n",
       "      <td>the</td>\n",
       "      <td>69277</td>\n",
       "    </tr>\n",
       "    <tr>\n",
       "      <th>1</th>\n",
       "      <td>and</td>\n",
       "      <td>25648</td>\n",
       "    </tr>\n",
       "    <tr>\n",
       "      <th>2</th>\n",
       "      <td>said</td>\n",
       "      <td>25383</td>\n",
       "    </tr>\n",
       "    <tr>\n",
       "      <th>3</th>\n",
       "      <td>for</td>\n",
       "      <td>13782</td>\n",
       "    </tr>\n",
       "    <tr>\n",
       "      <th>4</th>\n",
       "      <td>from</td>\n",
       "      <td>8217</td>\n",
       "    </tr>\n",
       "    <tr>\n",
       "      <th>5</th>\n",
       "      <td>that</td>\n",
       "      <td>7540</td>\n",
       "    </tr>\n",
       "    <tr>\n",
       "      <th>6</th>\n",
       "      <td>year</td>\n",
       "      <td>7529</td>\n",
       "    </tr>\n",
       "    <tr>\n",
       "      <th>7</th>\n",
       "      <td>its</td>\n",
       "      <td>7402</td>\n",
       "    </tr>\n",
       "    <tr>\n",
       "      <th>8</th>\n",
       "      <td>net</td>\n",
       "      <td>6989</td>\n",
       "    </tr>\n",
       "    <tr>\n",
       "      <th>9</th>\n",
       "      <td>with</td>\n",
       "      <td>6179</td>\n",
       "    </tr>\n",
       "  </tbody>\n",
       "</table>\n",
       "</div>"
      ],
      "text/plain": [
       "   Word  Frequency\n",
       "0   the      69277\n",
       "1   and      25648\n",
       "2  said      25383\n",
       "3   for      13782\n",
       "4  from       8217\n",
       "5  that       7540\n",
       "6  year       7529\n",
       "7   its       7402\n",
       "8   net       6989\n",
       "9  with       6179"
      ]
     },
     "execution_count": 41,
     "metadata": {},
     "output_type": "execute_result"
    }
   ],
   "source": [
    "fdist = nltk.FreqDist(textlist)    \n",
    "df_fdist = pd.DataFrame.from_dict(fdist, orient='index')\n",
    "df_fdist.columns = ['Frequency']\n",
    "df_fdist.index.name = 'Word'\n",
    "df_fdist.sort_values(['Frequency'], ascending=[False], inplace = True)\n",
    "\n",
    "#add index number, make word a column\n",
    "df_fdist.reset_index(level=0, inplace=True)\n",
    "\n",
    "#print first ten of data frame\n",
    "df_fdist.head(10)"
   ]
  },
  {
   "cell_type": "code",
   "execution_count": 23,
   "metadata": {},
   "outputs": [
    {
     "data": {
      "image/png": "[encoded data removed]",
      "text/plain": [
       "<matplotlib.figure.Figure at 0x202bf57c3c8>"
      ]
     },
     "metadata": {},
     "output_type": "display_data"
    }
   ],
   "source": [
    "high200freq = df_fdist[df_fdist.index<=49]\n",
    "\n",
    "high200freq.index+=1\n",
    "\n",
    "#make the figure larger\n",
    "fig = plt.figure(figsize=(20,10))\n",
    "\n",
    "#Plot bar with values from dict and label with keys\n",
    "plt.bar(range(len(high200freq)), high200freq.Frequency, align='center')\n",
    "plt.xticks(range(len(high200freq)), high200freq.index)\n",
    "\n",
    "#Rotate labels by 90 degrees so you can see them\n",
    "locs, labels = plt.xticks()\n",
    "plt.setp(labels, rotation=90)\n",
    "\n",
    "#plot zipf distribution\n",
    "count, bins, ignored = plt.hist(s[s<50], 50, normed=True)\n",
    "x = np.arange(1., 50.)\n",
    "y = x**(-a) / special.zetac(a)\n",
    "plt.plot(x, y*max(high200freq.Frequency), linewidth=2, color='r')\n",
    "\n",
    "plt.title(\"Zipf Plot Comparison for Word Rank, Reuters Corpus\",size=18)\n",
    "plt.xlabel(\"Word Rank\",size=12)\n",
    "plt.ylabel(\"Frequency\",size=12)\n",
    "\n",
    "plt.show()"
   ]
  },
  {
   "cell_type": "markdown",
   "metadata": {},
   "source": [
    "The distribution of inique words approximately follow the Zipf distribution, though cleaning provides an obstacle to a perfect fit. Small words, such as \"an\", \"to\", etc. were removed in our cleaning; as they were the most frequent words in the corpus, their removal impacts frequency distribution. The plots above illustrate the difference. Additionally, the specific subject matter of the corpora will obviously vary."
   ]
  },
  {
   "cell_type": "code",
   "execution_count": null,
   "metadata": {},
   "outputs": [],
   "source": []
  }
 ],
 "metadata": {
  "kernelspec": {
   "display_name": "Python 3",
   "language": "python",
   "name": "python3"
  },
  "language_info": {
   "codemirror_mode": {
    "name": "ipython",
    "version": 3
   },
   "file_extension": ".py",
   "mimetype": "text/x-python",
   "name": "python",
   "nbconvert_exporter": "python",
   "pygments_lexer": "ipython3",
   "version": "3.5.5"
  },
  "toc": {
   "base_numbering": 1,
   "nav_menu": {},
   "number_sections": false,
   "sideBar": true,
   "skip_h1_title": false,
   "title_cell": "Table of Contents",
   "title_sidebar": "Contents",
   "toc_cell": false,
   "toc_position": {},
   "toc_section_display": true,
   "toc_window_display": false
  }
 },
 "nbformat": 4,
 "nbformat_minor": 2
}
